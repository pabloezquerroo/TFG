{
  "cells": [
    {
      "cell_type": "markdown",
      "metadata": {
        "id": "view-in-github",
        "colab_type": "text"
      },
      "source": [
        "<a href=\"https://colab.research.google.com/github/pabloezquerroo/TFG/blob/main/Maquina/Maquina.ipynb\" target=\"_parent\"><img src=\"https://colab.research.google.com/assets/colab-badge.svg\" alt=\"Open In Colab\"/></a>"
      ]
    },
    {
      "cell_type": "markdown",
      "source": [
        "# **Entrenamiento del Modelo**"
      ],
      "metadata": {
        "id": "pRCvc2HP9spq"
      }
    },
    {
      "cell_type": "code",
      "source": [
        "from google.colab import drive\n",
        "drive.mount('/content/drive')"
      ],
      "metadata": {
        "colab": {
          "base_uri": "https://localhost:8080/"
        },
        "id": "m5R9wWQxMjCR",
        "outputId": "b88bfe2e-f66d-4cc9-ce7e-795ca7c674f6"
      },
      "execution_count": 80,
      "outputs": [
        {
          "output_type": "stream",
          "name": "stdout",
          "text": [
            "Drive already mounted at /content/drive; to attempt to forcibly remount, call drive.mount(\"/content/drive\", force_remount=True).\n"
          ]
        }
      ]
    },
    {
      "cell_type": "code",
      "source": [
        "from keras.preprocessing.image import ImageDataGenerator #preproceso de imágenes\n",
        "from keras import optimizers #optimizador para el algoritmo\n",
        "from keras.models import Sequential #redes neuronales secuenciales\n",
        "from keras.layers import Dropout, Flatten, Dense, Activation\n",
        "from keras.layers import  Convolution2D, MaxPooling2D\n",
        "from keras import backend as K #si hay una sesion keras en background la mata\n",
        "import os"
      ],
      "metadata": {
        "id": "zPyQvDuFNSJB"
      },
      "execution_count": 81,
      "outputs": []
    },
    {
      "cell_type": "code",
      "source": [
        "K.clear_session()\n",
        "data_entrenamiento= '/content/drive/MyDrive/TFG/Imágenes/Entrenamiento'\n",
        "data_validacion= '/content/drive/MyDrive/TFG/Imágenes/Validacion'\n",
        "\n",
        "def listar_contenido_directorio(ruta):\n",
        "    for root, dirs, files in os.walk(ruta):\n",
        "        print(f\"Directorio: {root}\")\n",
        "        print(f\"Subdirectorios: {dirs}\")\n",
        "        print(f\"Archivos: {files}\")\n",
        "\n",
        "listar_contenido_directorio(data_entrenamiento)\n",
        "listar_contenido_directorio(data_validacion)"
      ],
      "metadata": {
        "colab": {
          "base_uri": "https://localhost:8080/"
        },
        "id": "DYOxgUybPpsY",
        "outputId": "e60fca13-a81f-4e11-b9c7-198309642053"
      },
      "execution_count": 82,
      "outputs": [
        {
          "output_type": "stream",
          "name": "stdout",
          "text": [
            "Directorio: /content/drive/MyDrive/TFG/Imágenes/Entrenamiento\n",
            "Subdirectorios: ['Router', 'DNS', 'Link', 'Switch']\n",
            "Archivos: []\n",
            "Directorio: /content/drive/MyDrive/TFG/Imágenes/Entrenamiento/Router\n",
            "Subdirectorios: []\n",
            "Archivos: ['r (13).png', 'r (32).png', 'r (29).png', 'r (19).png', 'r (23).png', 'r (18).png', 'r (38).png', 'r (9).png', 'r (27).png', 'r (3).png', 'r (34).png', 'r (36).png', 'r (26).png', 'r (33).png', 'r (39).png', 'r (7).png', 'r (28).png', 'r (20).png', 'r (1).png', 'r (15).png', 'r (35).png', 'r (16).png', 'r (25).png', 'r (4).png', 'r (22).png', 'r (31).png', 'r (6).png', 'r (2).png', 'r (24).png', 'r (37).png', 'r (14).png', 'r (11).png', 'r (10).png', 'r (12).png', 'r (21).png', 'r (17).png', 'r (8).png', 'r (40).png', 'r (5).png', 'r (30).png']\n",
            "Directorio: /content/drive/MyDrive/TFG/Imágenes/Entrenamiento/DNS\n",
            "Subdirectorios: []\n",
            "Archivos: ['d (31).png', 'd (35).png', 'd (24).png', 'd (25).png', 'd (12).png', 'd (37).png', 'd (20).png', 'd (6).png', 'd (23).png', 'd (19).png', 'd (3).png', 'd (4).png', 'd (15).png', 'd (18).png', 'd (14).png', 'd (16).png', 'd (29).png', 'd (1).png', 'd (28).png', 'd (26).png', 'd (17).png', 'd (11).png', 'd (40).png', 'd (33).png', 'd (38).png', 'd (13).png', 'd (34).png', 'd (7).png', 'd (9).png', 'd (32).png', 'd (30).png', 'd (5).png', 'd (39).png', 'd (2).png', 'd (27).png', 'd (8).png', 'd (22).png', 'd (10).png', 'd (21).png', 'd (36).png']\n",
            "Directorio: /content/drive/MyDrive/TFG/Imágenes/Entrenamiento/Link\n",
            "Subdirectorios: []\n",
            "Archivos: ['l (29).png', 'l (6).png', 'l (24).png', 'l (10).png', 'l (39).png', 'l (35).png', 'l (25).png', 'l (14).png', 'l (26).png', 'l (36).png', 'l (2).png', 'l (23).png', 'l (5).png', 'l (8).png', 'l (38).png', 'l (9).png', 'l (20).png', 'l (15).png', 'l (21).png', 'l (22).png', 'l (31).png', 'l (17).png', 'l (27).png', 'l (37).png', 'l (40).png', 'l (34).png', 'l (18).png', 'l (7).png', 'l (19).png', 'l (4).png', 'l (12).png', 'l (30).png', 'l (33).png', 'l (1).png', 'l (16).png', 'l (28).png', 'l (3).png', 'l (32).png', 'l (13).png', 'l (11).png']\n",
            "Directorio: /content/drive/MyDrive/TFG/Imágenes/Entrenamiento/Switch\n",
            "Subdirectorios: []\n",
            "Archivos: ['s (8).png', 's (20).png', 's (21).png', 's (22).png', 's (32).png', 's (40).png', 's (23).png', 's (27).png', 's (2).png', 's (9).png', 's (37).png', 's (14).png', 's (19).png', 's (15).png', 's (10).png', 's (29).png', 's (13).png', 's (38).png', 's (6).png', 's (7).png', 's (25).png', 's (36).png', 's (18).png', 's (31).png', 's (5).png', 's (1).png', 's (39).png', 's (11).png', 's (16).png', 's (4).png', 's (3).png', 's (34).png', 's (28).png', 's (26).png', 's (35).png', 's (12).png', 's (17).png', 's (24).png', 's (33).png', 's (30).png']\n",
            "Directorio: /content/drive/MyDrive/TFG/Imágenes/Validacion\n",
            "Subdirectorios: ['Router', 'DNS', 'Link', 'Switch']\n",
            "Archivos: []\n",
            "Directorio: /content/drive/MyDrive/TFG/Imágenes/Validacion/Router\n",
            "Subdirectorios: []\n",
            "Archivos: ['r (46).png', 'r (48).png', 'r (41).png', 'r (47).png', 'r (44).png', 'r (42).png', 'r (45).png', 'r (43).png']\n",
            "Directorio: /content/drive/MyDrive/TFG/Imágenes/Validacion/DNS\n",
            "Subdirectorios: []\n",
            "Archivos: ['d (45).png', 'd (46).png', 'd (43).png', 'd (41).png', 'd (53).png', 'd (51).png', 'd (48).png', 'd (50).png', 'd (49).png', 'd (52).png', 'd (44).png', 'd (42).png', 'd (54).png', 'd (47).png']\n",
            "Directorio: /content/drive/MyDrive/TFG/Imágenes/Validacion/Link\n",
            "Subdirectorios: []\n",
            "Archivos: ['l (43).png', 'l (47).png', 'l (41).png', 'l (44).png', 'l (46).png', 'l (48).png', 'l (45).png', 'l (42).png']\n",
            "Directorio: /content/drive/MyDrive/TFG/Imágenes/Validacion/Switch\n",
            "Subdirectorios: []\n",
            "Archivos: ['s (50).png', 's (54).png', 's (41).png', 's (45).png', 's (46).png', 's (51).png', 's (49).png', 's (53).png', 's (52).png', 's (43).png', 's (48).png', 's (44).png', 's (47).png', 's (42).png']\n"
          ]
        }
      ]
    },
    {
      "cell_type": "code",
      "source": [
        "# Parametros\n",
        "\n",
        "epocas = 20 # numero de iteraciones en el set de datos\n",
        "altura, longitud= 100, 100 # tamaño al que procesamos las imágenes\n",
        "batch_size_entrenamiento = 40 # numero de imagenes a procesar\n",
        "batch_size_validacion = 22 # numero de imagenes a procesar\n",
        "pasos = 4 # numero de pasos en cada una de las epocas (total de datos de entrenamiento / pasos)\n",
        "pasos_validacion = 2 # numero de pasos al final de las epocas (total de datos de validacion / pasos)\n",
        "filtrosConv1 = 32 # numero de filtros\n",
        "filtrosConv2 = 64 # numero de filtros\n",
        "filtrosConv3 = 64 # numero de filtros\n",
        "tamano_filtro1 =(3,3)\n",
        "tamano_filtro2 =(3,3)\n",
        "tamano_filtro3 =(3,3)\n",
        "tamano_pool = (2,2)\n",
        "clases = 4 # tipos de salidas\n",
        "lr = 0.0008 # como de grande van a ser los ajustes para acercarse a la solucion óptima\n",
        "\n",
        "# pre-procesamiento de imagenes\n",
        "\n",
        "entrenamiento_datagen= ImageDataGenerator(\n",
        "    rescale=1./255, # reescalamos de 0 a 1 los píxeles\n",
        "    shear_range=0.3, # algunas de las imágenes las inclina\n",
        "    zoom_range=0.3, # algunas de las imágenes las amplia\n",
        "    horizontal_flip = True\n",
        ")\n",
        "\n",
        "validacion_datagen = ImageDataGenerator(\n",
        "    rescale = 1./255\n",
        ")\n",
        "\n",
        "imagen_entrenamiento = entrenamiento_datagen.flow_from_directory(\n",
        "    data_entrenamiento,\n",
        "    target_size= (altura, longitud),\n",
        "    batch_size=batch_size_entrenamiento,\n",
        "    class_mode='categorical',\n",
        "    color_mode='grayscale'\n",
        ")\n",
        "\n",
        "imagen_validacion = validacion_datagen.flow_from_directory(\n",
        "    data_validacion,\n",
        "    target_size= (altura, longitud),\n",
        "    batch_size=batch_size_validacion,\n",
        "    class_mode='categorical',\n",
        "    color_mode='grayscale'\n",
        ")"
      ],
      "metadata": {
        "colab": {
          "base_uri": "https://localhost:8080/"
        },
        "id": "W5xaYlUhQJJ0",
        "outputId": "02db0772-940a-4eb1-f0b5-0af25a7bcdc0"
      },
      "execution_count": 83,
      "outputs": [
        {
          "output_type": "stream",
          "name": "stdout",
          "text": [
            "Found 160 images belonging to 4 classes.\n",
            "Found 44 images belonging to 4 classes.\n"
          ]
        }
      ]
    },
    {
      "cell_type": "code",
      "source": [
        "# Creamos la red convolucional\n",
        "\n",
        "cnn = Sequential()\n",
        "\n",
        "# Primera capa\n",
        "cnn.add(Convolution2D(filtrosConv1, tamano_filtro1, padding= 'same', input_shape=(altura, longitud, 1), activation='relu'))\n",
        "\n",
        "# Segunda capa\n",
        "cnn.add(MaxPooling2D(pool_size=tamano_pool))\n",
        "\n",
        "# Tercera capa\n",
        "cnn.add(Convolution2D(filtrosConv2, tamano_filtro2, padding= 'same', activation='relu'))\n",
        "\n",
        "# Cuarta capa\n",
        "cnn.add(MaxPooling2D(pool_size=tamano_pool))\n",
        "\n",
        "# Quinta capa\n",
        "cnn.add(Convolution2D(filtrosConv3, tamano_filtro3, padding= 'same', activation='relu'))\n",
        "\n",
        "# Sexta capa\n",
        "cnn.add(MaxPooling2D(pool_size=tamano_pool))\n",
        "\n",
        "cnn.add(Flatten()) # La imagen que tenemos profunda la hacemos plana, 1 dimension con toda la informacion\n",
        "cnn.add(Dense(256, activation='relu')) # La imagen plana se la pasamos a una nueva capa en la que todas las neuronas estan conectadas a las de la anterior\n",
        "cnn.add(Dropout(0.5)) # En cada paso de entrenamiento apagamos la mitad de las neuronas a la capa densa para evitar sobreajustar.\n",
        "cnn.add(Dense(clases, activation='softmax')) # Capa final para clasificar\n",
        "\n",
        "# Durante el entrenamiento la funcion de perdida va a ser categorical crossentropy\n",
        "# Optimizador Adam\n",
        "# Metrica de porcentaje para saber como de bien esta aprendiendo la red\n",
        "cnn.compile(loss='categorical_crossentropy', optimizer=optimizers.Adam(learning_rate=lr), metrics=['accuracy'])\n",
        "\n",
        "# Entrenamos la red con la imagen de entrenamiento, cada epoca tiene 1000 pasos, 20 epocas.\n",
        "# Despues de cada epoca va a correr 200 pasos de validacion\n",
        "history = cnn.fit(\n",
        "    imagen_entrenamiento,\n",
        "    steps_per_epoch=pasos,\n",
        "    epochs=epocas,\n",
        "    validation_data=imagen_validacion,\n",
        "    validation_steps=pasos_validacion\n",
        "    )\n",
        "\n",
        "\n",
        "# Guardar el modelo entrenado\n",
        "# model.save('/content/drive/MyDrive/TFG/mi_modelo.h5')\n",
        "\n"
      ],
      "metadata": {
        "colab": {
          "base_uri": "https://localhost:8080/"
        },
        "id": "10nzt22GUCkU",
        "outputId": "9a27c965-3d5b-4dc2-b7d5-0c4935db230a"
      },
      "execution_count": 84,
      "outputs": [
        {
          "output_type": "stream",
          "name": "stdout",
          "text": [
            "Epoch 1/20\n",
            "4/4 [==============================] - 5s 821ms/step - loss: 1.5104 - accuracy: 0.2000 - val_loss: 1.3514 - val_accuracy: 0.3182\n",
            "Epoch 2/20\n",
            "4/4 [==============================] - 3s 713ms/step - loss: 1.4129 - accuracy: 0.2688 - val_loss: 1.3849 - val_accuracy: 0.2727\n",
            "Epoch 3/20\n",
            "4/4 [==============================] - 5s 1s/step - loss: 1.3898 - accuracy: 0.2375 - val_loss: 1.3755 - val_accuracy: 0.1818\n",
            "Epoch 4/20\n",
            "4/4 [==============================] - 3s 716ms/step - loss: 1.3706 - accuracy: 0.2875 - val_loss: 1.3558 - val_accuracy: 0.4318\n",
            "Epoch 5/20\n",
            "4/4 [==============================] - 3s 718ms/step - loss: 1.3509 - accuracy: 0.3250 - val_loss: 1.3058 - val_accuracy: 0.5000\n",
            "Epoch 6/20\n",
            "4/4 [==============================] - 5s 1s/step - loss: 1.3220 - accuracy: 0.3812 - val_loss: 1.2224 - val_accuracy: 0.6818\n",
            "Epoch 7/20\n",
            "4/4 [==============================] - 4s 790ms/step - loss: 1.2227 - accuracy: 0.5500 - val_loss: 1.0481 - val_accuracy: 0.8182\n",
            "Epoch 8/20\n",
            "4/4 [==============================] - 3s 709ms/step - loss: 1.0532 - accuracy: 0.6625 - val_loss: 0.8052 - val_accuracy: 0.8182\n",
            "Epoch 9/20\n",
            "4/4 [==============================] - 3s 739ms/step - loss: 0.8851 - accuracy: 0.6875 - val_loss: 0.5363 - val_accuracy: 0.8409\n",
            "Epoch 10/20\n",
            "4/4 [==============================] - 3s 722ms/step - loss: 0.6183 - accuracy: 0.8000 - val_loss: 0.3652 - val_accuracy: 0.8636\n",
            "Epoch 11/20\n",
            "4/4 [==============================] - 3s 714ms/step - loss: 0.4894 - accuracy: 0.8313 - val_loss: 0.2996 - val_accuracy: 0.9091\n",
            "Epoch 12/20\n",
            "4/4 [==============================] - 3s 721ms/step - loss: 0.4400 - accuracy: 0.8625 - val_loss: 0.3360 - val_accuracy: 0.9545\n",
            "Epoch 13/20\n",
            "4/4 [==============================] - 5s 983ms/step - loss: 0.3343 - accuracy: 0.9000 - val_loss: 0.3428 - val_accuracy: 0.9091\n",
            "Epoch 14/20\n",
            "4/4 [==============================] - 3s 717ms/step - loss: 0.3069 - accuracy: 0.8938 - val_loss: 0.2645 - val_accuracy: 0.9545\n",
            "Epoch 15/20\n",
            "4/4 [==============================] - 3s 715ms/step - loss: 0.3324 - accuracy: 0.8625 - val_loss: 0.4875 - val_accuracy: 0.8409\n",
            "Epoch 16/20\n",
            "4/4 [==============================] - 5s 1s/step - loss: 0.3662 - accuracy: 0.8562 - val_loss: 0.2989 - val_accuracy: 0.9091\n",
            "Epoch 17/20\n",
            "4/4 [==============================] - 3s 737ms/step - loss: 0.2928 - accuracy: 0.8938 - val_loss: 0.3344 - val_accuracy: 0.9091\n",
            "Epoch 18/20\n",
            "4/4 [==============================] - 3s 713ms/step - loss: 0.2459 - accuracy: 0.9125 - val_loss: 0.4403 - val_accuracy: 0.9091\n",
            "Epoch 19/20\n",
            "4/4 [==============================] - 4s 905ms/step - loss: 0.1520 - accuracy: 0.9563 - val_loss: 0.3029 - val_accuracy: 0.9318\n",
            "Epoch 20/20\n",
            "4/4 [==============================] - 3s 729ms/step - loss: 0.1607 - accuracy: 0.9438 - val_loss: 0.3117 - val_accuracy: 0.9773\n"
          ]
        }
      ]
    },
    {
      "cell_type": "code",
      "source": [
        "from sklearn.metrics import classification_report, confusion_matrix\n",
        "import numpy as np\n",
        "\n",
        "# Paso 1: Calcular la precisión en datos de validación\n",
        "validation_loss, validation_accuracy = cnn.evaluate(imagen_validacion)\n",
        "print(f'Precisión en datos de validación: {validation_accuracy}')\n",
        "\n",
        "# Paso 2: Graficar la curva de aprendizaje\n",
        "import matplotlib.pyplot as plt\n",
        "\n",
        "def plot_learning_curve(history):\n",
        "    plt.figure(figsize=(12, 6))\n",
        "\n",
        "    # Pérdida en conjunto de entrenamiento\n",
        "    plt.subplot(1, 2, 1)\n",
        "    plt.plot(history.history['loss'], label='train')\n",
        "    plt.plot(history.history['val_loss'], label='validation')\n",
        "    plt.title('Pérdida en Entrenamiento vs. Validación')\n",
        "    plt.xlabel('Épocas')\n",
        "    plt.ylabel('Pérdida')\n",
        "    plt.legend()\n",
        "\n",
        "    # Precisión en conjunto de entrenamiento\n",
        "    plt.subplot(1, 2, 2)\n",
        "    plt.plot(history.history['accuracy'], label='train')\n",
        "    plt.plot(history.history['val_accuracy'], label='validation')\n",
        "    plt.title('Precisión en Entrenamiento vs. Validación')\n",
        "    plt.xlabel('Épocas')\n",
        "    plt.ylabel('Precisión')\n",
        "    plt.legend()\n",
        "\n",
        "    plt.show()\n",
        "\n",
        "plot_learning_curve(history)\n",
        "\n",
        "# Paso 3: Realizar predicciones en datos de validación\n",
        "y_pred = cnn.predict(imagen_validacion)\n",
        "y_pred_classes = np.argmax(y_pred, axis=1)\n",
        "\n",
        "# Paso 4: Matriz de Confusión\n",
        "confusion = confusion_matrix(imagen_validacion.classes, y_pred_classes)\n",
        "print(\"Matriz de Confusión:\")\n",
        "print(confusion)\n",
        "\n",
        "# Paso 5: Informe de Clasificación\n",
        "class_labels = list(imagen_validacion.class_indices.keys())\n",
        "print(\"Informe de Clasificación:\")\n",
        "print(classification_report(imagen_validacion.classes, y_pred_classes, target_names=class_labels))\n"
      ],
      "metadata": {
        "id": "Z0G2RnaRQ3sy",
        "outputId": "0b63bf1d-4d28-46c6-f79c-3e1e6d1c4f89",
        "colab": {
          "base_uri": "https://localhost:8080/",
          "height": 933
        }
      },
      "execution_count": 85,
      "outputs": [
        {
          "output_type": "stream",
          "name": "stdout",
          "text": [
            "2/2 [==============================] - 0s 92ms/step - loss: 0.3117 - accuracy: 0.9773\n",
            "Precisión en datos de validación: 0.9772727489471436\n"
          ]
        },
        {
          "output_type": "display_data",
          "data": {
            "text/plain": [
              "<Figure size 1200x600 with 2 Axes>"
            ],
            "image/png": "[encoded data removed]"
          },
          "metadata": {}
        },
        {
          "output_type": "stream",
          "name": "stdout",
          "text": [
            "2/2 [==============================] - 0s 85ms/step\n",
            "Matriz de Confusión:\n",
            "[[4 3 3 4]\n",
            " [5 0 2 1]\n",
            " [2 2 1 3]\n",
            " [2 3 3 6]]\n",
            "Informe de Clasificación:\n",
            "              precision    recall  f1-score   support\n",
            "\n",
            "         DNS       0.31      0.29      0.30        14\n",
            "        Link       0.00      0.00      0.00         8\n",
            "      Router       0.11      0.12      0.12         8\n",
            "      Switch       0.43      0.43      0.43        14\n",
            "\n",
            "    accuracy                           0.25        44\n",
            "   macro avg       0.21      0.21      0.21        44\n",
            "weighted avg       0.25      0.25      0.25        44\n",
            "\n"
          ]
        }
      ]
    },
    {
      "cell_type": "markdown",
      "source": [
        "# **`Prueba del modelo`**"
      ],
      "metadata": {
        "id": "8Ll1pgpT8BYI"
      }
    },
    {
      "cell_type": "code",
      "source": [
        "\n",
        "data_prueba= '/content/drive/MyDrive/TFG/Imágenes/Prueba'\n",
        "\n",
        "def listar_contenido_directorio(ruta):\n",
        "    for root, dirs, files in os.walk(ruta):\n",
        "        print(f\"Directorio: {root}\")\n",
        "        print(f\"Subdirectorios: {dirs}\")\n",
        "        print(f\"Archivos: {files}\")\n",
        "\n",
        "listar_contenido_directorio(data_prueba);\n"
      ],
      "metadata": {
        "id": "SIuoKAGB33ty",
        "outputId": "efdcc944-fb03-442a-b33d-efea3444ac04",
        "colab": {
          "base_uri": "https://localhost:8080/"
        }
      },
      "execution_count": 86,
      "outputs": [
        {
          "output_type": "stream",
          "name": "stdout",
          "text": [
            "Directorio: /content/drive/MyDrive/TFG/Imágenes/Prueba\n",
            "Subdirectorios: []\n",
            "Archivos: ['p (4).png', 'p (13).png', 'p (15).png', 'p (11).png', 'p (12).png', 'p (16).png', 'p (14).png', 'p (10).png', 'p (9).png', 'p (5).png', 'p (7).png', 'p (8).png', 'p (6).png', 'p (2).png', 'p (1).png', 'p (3).png']\n"
          ]
        }
      ]
    },
    {
      "cell_type": "code",
      "source": [
        "from keras.preprocessing import image\n",
        "import numpy as np\n",
        "\n",
        "# Cargar la imagen\n",
        "img = image.load_img('/content/drive/MyDrive/TFG/Imágenes/Prueba/p (16).png', target_size=(altura, longitud), color_mode='grayscale')\n",
        "\n",
        "# Convertir la imagen a un array de numpy y expandir las dimensiones\n",
        "img_array = image.img_to_array(img)\n",
        "img_array = np.expand_dims(img_array, axis=0)\n",
        "\n",
        "# Preprocesar la imagen como lo hiciste con tus datos de entrenamiento\n",
        "img_array /= 255.\n",
        "\n",
        "# Hacer la predicción\n",
        "prediccion = cnn.predict(img_array)\n",
        "\n",
        "# Obtener la clase predicha\n",
        "clase_predicha = np.argmax(prediccion, axis=1)\n",
        "\n",
        "indice_a_clase = {0: 'DNS', 1: 'Link', 2: 'Router', 3: 'Switch'}\n",
        "\n",
        "# Usa este valor para buscar en el diccionario\n",
        "clase_predicha_etiqueta = indice_a_clase[clase_predicha[0]]\n",
        "\n",
        "print(f'El modelo ha predicho: {clase_predicha_etiqueta}')"
      ],
      "metadata": {
        "colab": {
          "base_uri": "https://localhost:8080/"
        },
        "id": "VfSe0UZbMWrE",
        "outputId": "e2c50246-ddb0-4ca2-a6d2-453ad9fe30b0"
      },
      "execution_count": 87,
      "outputs": [
        {
          "output_type": "stream",
          "name": "stdout",
          "text": [
            "1/1 [==============================] - 0s 98ms/step\n",
            "El modelo ha predicho: Switch\n"
          ]
        }
      ]
    },
    {
      "cell_type": "code",
      "source": [
        "from keras.preprocessing import image\n",
        "import numpy as np\n",
        "\n",
        "# Mapeo de índices a clases\n",
        "indice_a_clase = {0: 'DNS', 1: 'Link', 2: 'Router', 3: 'Switch'}\n",
        "\n",
        "# Bucle for para cargar y predecir cada imagen\n",
        "for i in range(1, 17):\n",
        "    # Cargar la imagen\n",
        "    img = image.load_img(f'/content/drive/MyDrive/TFG/Imágenes/Prueba/p ({i}).png', target_size=(altura, longitud), color_mode='grayscale')\n",
        "\n",
        "    # Convertir la imagen a un array de numpy y expandir las dimensiones\n",
        "    img_array = image.img_to_array(img)\n",
        "    img_array = np.expand_dims(img_array, axis=0)\n",
        "\n",
        "    # Preprocesar la imagen como lo hiciste con tus datos de entrenamiento\n",
        "    img_array /= 255.\n",
        "\n",
        "    # Hacer la predicción\n",
        "    prediccion = cnn.predict(img_array)\n",
        "\n",
        "    # Obtener la clase predicha\n",
        "    clase_predicha = np.argmax(prediccion, axis=1)\n",
        "\n",
        "    # Usa este valor para buscar en el diccionario\n",
        "    clase_predicha_etiqueta = indice_a_clase[clase_predicha[0]]\n",
        "\n",
        "    print(f'El modelo ha predicho para la imagen p ({i}): {clase_predicha_etiqueta}')\n"
      ],
      "metadata": {
        "id": "qZ7-I_DVS7md",
        "outputId": "fd8cf72d-0944-4587-d01f-185e7bca2121",
        "colab": {
          "base_uri": "https://localhost:8080/"
        }
      },
      "execution_count": 88,
      "outputs": [
        {
          "output_type": "stream",
          "name": "stdout",
          "text": [
            "1/1 [==============================] - 0s 84ms/step\n",
            "El modelo ha predicho para la imagen p (1): Router\n",
            "1/1 [==============================] - 0s 27ms/step\n",
            "El modelo ha predicho para la imagen p (2): Router\n",
            "1/1 [==============================] - 0s 25ms/step\n",
            "El modelo ha predicho para la imagen p (3): Router\n",
            "1/1 [==============================] - 0s 25ms/step\n",
            "El modelo ha predicho para la imagen p (4): Router\n",
            "1/1 [==============================] - 0s 25ms/step\n",
            "El modelo ha predicho para la imagen p (5): Link\n",
            "1/1 [==============================] - 0s 32ms/step\n",
            "El modelo ha predicho para la imagen p (6): Router\n",
            "1/1 [==============================] - 0s 28ms/step\n",
            "El modelo ha predicho para la imagen p (7): Link\n",
            "1/1 [==============================] - 0s 27ms/step\n",
            "El modelo ha predicho para la imagen p (8): Link\n",
            "1/1 [==============================] - 0s 26ms/step\n",
            "El modelo ha predicho para la imagen p (9): DNS\n",
            "1/1 [==============================] - 0s 26ms/step\n",
            "El modelo ha predicho para la imagen p (10): DNS\n",
            "1/1 [==============================] - 0s 30ms/step\n",
            "El modelo ha predicho para la imagen p (11): DNS\n",
            "1/1 [==============================] - 0s 26ms/step\n",
            "El modelo ha predicho para la imagen p (12): DNS\n",
            "1/1 [==============================] - 0s 27ms/step\n",
            "El modelo ha predicho para la imagen p (13): Switch\n",
            "1/1 [==============================] - 0s 29ms/step\n",
            "El modelo ha predicho para la imagen p (14): Switch\n",
            "1/1 [==============================] - 0s 35ms/step\n",
            "El modelo ha predicho para la imagen p (15): Router\n",
            "1/1 [==============================] - 0s 25ms/step\n",
            "El modelo ha predicho para la imagen p (16): Switch\n"
          ]
        }
      ]
    }
  ],
  "metadata": {
    "kernelspec": {
      "display_name": "Python 3",
      "language": "python",
      "name": "python3"
    },
    "language_info": {
      "codemirror_mode": {
        "name": "ipython",
        "version": 3
      },
      "file_extension": ".py",
      "mimetype": "text/x-python",
      "name": "python",
      "nbconvert_exporter": "python",
      "pygments_lexer": "ipython3",
      "version": "3.10.4"
    },
    "colab": {
      "provenance": [],
      "include_colab_link": true
    }
  },
  "nbformat": 4,
  "nbformat_minor": 0
}