{
 "cells": [
  {
   "cell_type": "code",
   "execution_count": null,
   "metadata": {},
   "outputs": [],
   "source": [
    "from transformers import pipeline\n",
    "\n",
    "# Carga el pipeline de clasificación de imágenes\n",
    "image_classifier = pipeline(\"image-classification\")\n",
    "\n",
    "# Carga una imagen (reemplaza 'path/to/your/image.jpg' con la ruta de tu imagen)\n",
    "image_path = \"path/to/your/image.jpg\"\n",
    "results = image_classifier(image_path)\n",
    "\n",
    "# Muestra las etiquetas y probabilidades\n",
    "for label, score in results:\n",
    "    print(f\"{label}: {score:.2f}\")\n"
   ]
  }
 ],
 "metadata": {
  "language_info": {
   "name": "python"
  }
 },
 "nbformat": 4,
 "nbformat_minor": 2
}
